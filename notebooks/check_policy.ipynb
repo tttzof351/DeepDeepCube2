{
 "cells": [
  {
   "cell_type": "code",
   "execution_count": 1,
   "metadata": {},
   "outputs": [],
   "source": [
    "import os\n",
    "import sys\n",
    "\n",
    "sys.path.append(\"../\")"
   ]
  },
  {
   "cell_type": "code",
   "execution_count": 2,
   "metadata": {},
   "outputs": [
    {
     "name": "stderr",
     "output_type": "stream",
     "text": [
      "/Users/euclid/anaconda3/envs/py11/lib/python3.11/site-packages/tqdm/auto.py:21: TqdmWarning: IProgress not found. Please update jupyter and ipywidgets. See https://ipywidgets.readthedocs.io/en/stable/user_install.html\n",
      "  from .autonotebook import tqdm as notebook_tqdm\n"
     ]
    }
   ],
   "source": [
    "import time\n",
    "\n",
    "from accelerate import Accelerator\n",
    "\n",
    "import torch\n",
    "import torch.nn.functional as F\n",
    "import numpy as np\n",
    "\n",
    "from utils import open_pickle\n",
    "\n",
    "from cube3_game import Cube3Game\n",
    "from models import Pilgrim\n",
    "from g_datasets import get_torch_scrambles_3, reverse_actions\n",
    "from g_datasets import scrambles_collate_fn\n",
    "from g_datasets import Cube3Dataset3 \n",
    "from utils import set_seed"
   ]
  },
  {
   "cell_type": "code",
   "execution_count": 3,
   "metadata": {},
   "outputs": [],
   "source": [
    "set_seed(0)\n",
    "game = Cube3Game(\"../assets/envs/qtm_cube3.pickle\")\n",
    "generators = torch.tensor(game.actions, dtype=torch.int64)\n",
    "\n",
    "state_size = game.actions.shape[1]\n",
    "hash_vec = torch.randint(0, 1_000_000_000_000, (state_size,))  \n",
    "\n",
    "scrambles, actions, lengths = get_torch_scrambles_3(\n",
    "    N=1,\n",
    "    n=26,\n",
    "    generators=generators,\n",
    "    hash_vec=hash_vec,\n",
    "    device=\"cpu\"\n",
    ")"
   ]
  },
  {
   "cell_type": "code",
   "execution_count": 4,
   "metadata": {},
   "outputs": [
    {
     "data": {
      "text/plain": [
       "<All keys matched successfully>"
      ]
     },
     "execution_count": 4,
     "metadata": {},
     "output_type": "execute_result"
    }
   ],
   "source": [
    "model = Pilgrim(\n",
    "    hidden_dim1 = 500, \n",
    "    hidden_dim2  = 300, \n",
    "    num_residual_blocks = 3,    \n",
    ")\n",
    "model.load_state_dict(torch.load(\n",
    "    \"../assets/models/Cube3ResnetModel_policy.pt\"\n",
    "))"
   ]
  },
  {
   "cell_type": "code",
   "execution_count": 5,
   "metadata": {},
   "outputs": [
    {
     "data": {
      "text/plain": [
       "torch.Size([26, 54])"
      ]
     },
     "execution_count": 5,
     "metadata": {},
     "output_type": "execute_result"
    }
   ],
   "source": [
    "scrambles.shape"
   ]
  },
  {
   "cell_type": "code",
   "execution_count": 6,
   "metadata": {},
   "outputs": [
    {
     "data": {
      "text/plain": [
       "tensor([11,  8, 11,  4,  8,  8,  4,  6,  7,  0,  7,  6,  3,  7,  8,  1,  1,  1,\n",
       "         4,  7, 10,  8,  1,  2,  6,  4])"
      ]
     },
     "execution_count": 6,
     "metadata": {},
     "output_type": "execute_result"
    }
   ],
   "source": [
    "actions"
   ]
  },
  {
   "cell_type": "code",
   "execution_count": 7,
   "metadata": {},
   "outputs": [],
   "source": [
    "reversed_actions = reverse_actions(actions, n_gens=len(generators))"
   ]
  },
  {
   "cell_type": "code",
   "execution_count": 8,
   "metadata": {},
   "outputs": [
    {
     "data": {
      "text/plain": [
       "tensor([ 5.,  2.,  5., 10.,  2.,  2., 10.,  0.,  1.,  6.,  1.,  0.,  9.,  1.,\n",
       "         2.,  7.,  7.,  7., 10.,  1.,  4.,  2.,  7.,  8.,  0., 10.])"
      ]
     },
     "execution_count": 8,
     "metadata": {},
     "output_type": "execute_result"
    }
   ],
   "source": [
    "reversed_actions"
   ]
  },
  {
   "cell_type": "code",
   "execution_count": 9,
   "metadata": {},
   "outputs": [
    {
     "data": {
      "text/plain": [
       "tensor([ 0,  1,  2,  3,  4,  5,  6,  7,  8,  9, 10, 11, 12, 13, 14, 15, 16, 17,\n",
       "        18, 19, 20, 21, 22, 23, 24, 25, 26, 27, 28, 29, 30, 31, 32, 33, 34, 35,\n",
       "        36, 37, 38, 39, 40, 41, 42, 43, 44, 45, 46, 47, 48, 49, 50, 51, 52, 53])"
      ]
     },
     "execution_count": 9,
     "metadata": {},
     "output_type": "execute_result"
    }
   ],
   "source": [
    "i = 0\n",
    "s = scrambles[i, :]\n",
    "for a in reversed_actions.tolist()[:i+1][::-1]:\n",
    "    a = int(a)\n",
    "    s = s[generators[a]]\n",
    "s"
   ]
  },
  {
   "cell_type": "code",
   "execution_count": 10,
   "metadata": {},
   "outputs": [
    {
     "data": {
      "text/plain": [
       "[5.0,\n",
       " 2.0,\n",
       " 5.0,\n",
       " 10.0,\n",
       " 2.0,\n",
       " 2.0,\n",
       " 10.0,\n",
       " 0.0,\n",
       " 1.0,\n",
       " 6.0,\n",
       " 1.0,\n",
       " 0.0,\n",
       " 9.0,\n",
       " 1.0,\n",
       " 2.0,\n",
       " 7.0,\n",
       " 7.0,\n",
       " 7.0,\n",
       " 10.0,\n",
       " 1.0,\n",
       " 4.0,\n",
       " 2.0,\n",
       " 7.0,\n",
       " 8.0,\n",
       " 0.0,\n",
       " 10.0]"
      ]
     },
     "execution_count": 10,
     "metadata": {},
     "output_type": "execute_result"
    }
   ],
   "source": [
    "reversed_actions.tolist()"
   ]
  },
  {
   "cell_type": "code",
   "execution_count": 11,
   "metadata": {},
   "outputs": [
    {
     "data": {
      "text/plain": [
       "tensor([11,  8, 11,  4,  8,  8,  4,  6,  7,  0,  7,  6,  3,  7,  8,  1,  1,  1,\n",
       "         4,  7, 10,  8,  1,  2,  6,  4])"
      ]
     },
     "execution_count": 11,
     "metadata": {},
     "output_type": "execute_result"
    }
   ],
   "source": [
    "actions"
   ]
  },
  {
   "cell_type": "code",
   "execution_count": 12,
   "metadata": {},
   "outputs": [],
   "source": [
    "model = model.eval()"
   ]
  },
  {
   "cell_type": "code",
   "execution_count": 19,
   "metadata": {},
   "outputs": [
    {
     "name": "stdout",
     "output_type": "stream",
     "text": [
      "tensor([[0.1656, 0.0731, 0.0650, 0.0549, 0.1025, 0.0927, 0.0357, 0.0469, 0.1084,\n",
      "         0.1387, 0.0619, 0.0547]])\n",
      "argmax: tensor(0)\n",
      "ra: tensor(1.)\n",
      "a: tensor(7)\n"
     ]
    }
   ],
   "source": [
    "i = 8\n",
    "with torch.no_grad():\n",
    "    value, policy = model(scrambles[i, :].unsqueeze(dim=0))\n",
    "    policy = policy.softmax(dim=1)\n",
    "    \n",
    "print(policy)\n",
    "print(\"argmax:\", torch.argmax(policy))\n",
    "print(\"ra:\", reversed_actions[i])\n",
    "print(\"a:\", actions[i])"
   ]
  },
  {
   "cell_type": "code",
   "execution_count": null,
   "metadata": {},
   "outputs": [],
   "source": [
    "training_dataset = Cube3Dataset3(\n",
    "    n = 32,\n",
    "    N = 400,\n",
    "    size = 1_000_000,\n",
    "    generators = torch.tensor(game.actions, dtype=torch.int64, device=\"mps\"),\n",
    "    device=\"mps\"\n",
    ")\n",
    "training_dataloader = torch.utils.data.DataLoader(\n",
    "    training_dataset, \n",
    "    batch_size=32,\n",
    "    shuffle=True, \n",
    "    num_workers=0,\n",
    "    collate_fn=scrambles_collate_fn\n",
    ")"
   ]
  },
  {
   "cell_type": "code",
   "execution_count": null,
   "metadata": {},
   "outputs": [],
   "source": [
    "for data in training_dataloader:\n",
    "    states, actions, targets = data\n",
    "    break"
   ]
  },
  {
   "cell_type": "code",
   "execution_count": null,
   "metadata": {},
   "outputs": [],
   "source": [
    "states.shape"
   ]
  },
  {
   "cell_type": "code",
   "execution_count": null,
   "metadata": {},
   "outputs": [],
   "source": [
    "torch.max(actions)"
   ]
  },
  {
   "cell_type": "code",
   "execution_count": null,
   "metadata": {},
   "outputs": [],
   "source": [
    "torch.min(actions)"
   ]
  },
  {
   "cell_type": "code",
   "execution_count": null,
   "metadata": {},
   "outputs": [],
   "source": [
    "r_actions = reverse_actions(actions, n_gens=12)"
   ]
  },
  {
   "cell_type": "code",
   "execution_count": null,
   "metadata": {},
   "outputs": [],
   "source": [
    "torch.max(r_actions)"
   ]
  },
  {
   "cell_type": "code",
   "execution_count": null,
   "metadata": {},
   "outputs": [],
   "source": [
    "torch.min(actions)"
   ]
  },
  {
   "cell_type": "code",
   "execution_count": null,
   "metadata": {},
   "outputs": [],
   "source": [
    "len(generators)"
   ]
  },
  {
   "cell_type": "code",
   "execution_count": null,
   "metadata": {},
   "outputs": [],
   "source": [
    "targets.shape"
   ]
  }
 ],
 "metadata": {
  "kernelspec": {
   "display_name": "py11",
   "language": "python",
   "name": "python3"
  },
  "language_info": {
   "codemirror_mode": {
    "name": "ipython",
    "version": 3
   },
   "file_extension": ".py",
   "mimetype": "text/x-python",
   "name": "python",
   "nbconvert_exporter": "python",
   "pygments_lexer": "ipython3",
   "version": "3.11.7"
  }
 },
 "nbformat": 4,
 "nbformat_minor": 2
}
