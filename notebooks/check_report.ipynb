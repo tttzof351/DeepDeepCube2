{
 "cells": [
  {
   "cell_type": "code",
   "execution_count": 3,
   "metadata": {},
   "outputs": [],
   "source": [
    "import os\n",
    "import sys\n",
    "\n",
    "sys.path.append(\"/teamspace/studios/this_studio/DeepDeepCube2\")"
   ]
  },
  {
   "cell_type": "code",
   "execution_count": 24,
   "metadata": {},
   "outputs": [],
   "source": [
    "from utils import open_pickle\n",
    "from utils import save_pickle"
   ]
  },
  {
   "cell_type": "code",
   "execution_count": 7,
   "metadata": {},
   "outputs": [],
   "source": [
    "report = open_pickle(\"./DeepDeepCube2/assets/reports/policy_2B_800K_search_policy.pkl\")"
   ]
  },
  {
   "cell_type": "code",
   "execution_count": 10,
   "metadata": {},
   "outputs": [
    {
     "data": {
      "text/plain": [
       "dict_keys(['i', 'state', 'duration_sec', 'solution_len', 'solution', 'optimum_len', 'optimum', 'processed_count'])"
      ]
     },
     "execution_count": 10,
     "metadata": {},
     "output_type": "execute_result"
    }
   ],
   "source": [
    "report[0].keys()"
   ]
  },
  {
   "cell_type": "code",
   "execution_count": 14,
   "metadata": {},
   "outputs": [
    {
     "data": {
      "text/plain": [
       "54"
      ]
     },
     "execution_count": 14,
     "metadata": {},
     "output_type": "execute_result"
    }
   ],
   "source": [
    "len(report[0]['state'])"
   ]
  },
  {
   "cell_type": "code",
   "execution_count": 23,
   "metadata": {},
   "outputs": [],
   "source": [
    "for i in range(len(report)):\n",
    "    report[i]['solution'] = report[i]['solution'].detach().tolist()"
   ]
  },
  {
   "cell_type": "code",
   "execution_count": 25,
   "metadata": {},
   "outputs": [],
   "source": [
    "save_pickle(report, \"./DeepDeepCube2/assets/reports/test.pkl\")"
   ]
  },
  {
   "cell_type": "code",
   "execution_count": 26,
   "metadata": {},
   "outputs": [],
   "source": [
    "paths = [\n",
    "    \"/teamspace/studios/this_studio/DeepDeepCube2/assets/reports/policy_2B_800K_search_policy.pkl\",\n",
    "    \"/teamspace/studios/this_studio/DeepDeepCube2/assets/reports/value_2B_800K_search_value.pkl\",\n",
    "    \"/teamspace/studios/this_studio/DeepDeepCube2/assets/reports/value_policy_2B_800K_search_policy.pkl\",\n",
    "    \"/teamspace/studios/this_studio/DeepDeepCube2/assets/reports/value_policy_2B_800K_search_value.pkl\"\n",
    "]"
   ]
  },
  {
   "cell_type": "code",
   "execution_count": 27,
   "metadata": {},
   "outputs": [],
   "source": [
    "for path in paths:\n",
    "    report = open_pickle(path)\n",
    "    for i in range(len(report)):\n",
    "        report[i]['solution'] = report[i]['solution'].detach().tolist()    \n",
    "    save_pickle(report, path)    "
   ]
  },
  {
   "cell_type": "code",
   "execution_count": null,
   "metadata": {},
   "outputs": [],
   "source": []
  }
 ],
 "metadata": {
  "kernelspec": {
   "display_name": "py11",
   "language": "python",
   "name": "python3"
  },
  "language_info": {
   "codemirror_mode": {
    "name": "ipython",
    "version": 3
   },
   "file_extension": ".py",
   "mimetype": "text/x-python",
   "name": "python",
   "nbconvert_exporter": "python",
   "pygments_lexer": "ipython3",
   "version": "3.11.7"
  }
 },
 "nbformat": 4,
 "nbformat_minor": 2
}
