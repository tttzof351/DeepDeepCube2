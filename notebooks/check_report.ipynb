{
 "cells": [
  {
   "cell_type": "code",
   "execution_count": 3,
   "metadata": {},
   "outputs": [],
   "source": [
    "import os\n",
    "import sys\n",
    "\n",
    "# sys.path.append(\"/teamspace/studios/this_studio/DeepDeepCube2\")\n",
    "sys.path.append(\"..\")"
   ]
  },
  {
   "cell_type": "code",
   "execution_count": 4,
   "metadata": {},
   "outputs": [],
   "source": [
    "import numpy as np\n",
    "import torch \n",
    "from tqdm import tqdm\n",
    "\n",
    "from cube3_game import Cube3Game\n",
    "\n",
    "from utils import open_pickle\n",
    "from utils import save_pickle"
   ]
  },
  {
   "cell_type": "code",
   "execution_count": 3,
   "metadata": {},
   "outputs": [],
   "source": [
    "report = open_pickle(\"/teamspace/studios/this_studio/DeepDeepCube2/assets/reports/Cube3ResnetModel_value_policy_3_8B_14M_search_value_full.pkl\")"
   ]
  },
  {
   "cell_type": "code",
   "execution_count": 4,
   "metadata": {},
   "outputs": [
    {
     "data": {
      "text/plain": [
       "dict_keys(['i', 'state', 'duration_sec', 'solution_len', 'solution', 'optimum_len', 'optimum', 'processed_count'])"
      ]
     },
     "execution_count": 4,
     "metadata": {},
     "output_type": "execute_result"
    }
   ],
   "source": [
    "report[0].keys()"
   ]
  },
  {
   "cell_type": "code",
   "execution_count": 5,
   "metadata": {},
   "outputs": [
    {
     "data": {
      "text/plain": [
       "21.065"
      ]
     },
     "execution_count": 5,
     "metadata": {},
     "output_type": "execute_result"
    }
   ],
   "source": [
    "np.mean([report[i][\"solution_len\"] for i in range(1000)])"
   ]
  },
  {
   "cell_type": "code",
   "execution_count": 6,
   "metadata": {},
   "outputs": [
    {
     "data": {
      "text/plain": [
       "20.637"
      ]
     },
     "execution_count": 6,
     "metadata": {},
     "output_type": "execute_result"
    }
   ],
   "source": [
    "np.mean([report[i][\"optimum_len\"] for i in range(1000)])"
   ]
  },
  {
   "cell_type": "code",
   "execution_count": 7,
   "metadata": {},
   "outputs": [],
   "source": [
    "deepcube_test = open_pickle(\"./DeepDeepCube2/assets/data/deepcubea/data_0.pkl\")\n",
    "game = Cube3Game(\"./DeepDeepCube2/assets/envs/qtm_cube3.pickle\")\n",
    "generators = torch.tensor(game.actions, dtype=torch.int64)"
   ]
  },
  {
   "cell_type": "code",
   "execution_count": 8,
   "metadata": {},
   "outputs": [],
   "source": [
    "goal_state = torch.arange(0, 54, dtype=torch.int64)"
   ]
  },
  {
   "cell_type": "code",
   "execution_count": 17,
   "metadata": {},
   "outputs": [
    {
     "name": "stderr",
     "output_type": "stream",
     "text": [
      "100%|██████████| 1000/1000 [00:00<00:00, 12905.67it/s]\n"
     ]
    }
   ],
   "source": [
    "for i in tqdm(range(len(report))):\n",
    "    assert i == report[i][\"i\"]\n",
    "\n",
    "    state = torch.tensor(report[i][\"state\"])\n",
    "    deepcube_test_state = torch.tensor(deepcube_test[\"states\"][i])    \n",
    "    # assert (deepcube_test_state == state).all().item(), f\"i: {f}\"\n",
    "\n",
    "    solution = report[i][\"solution\"]\n",
    "    for a in solution:\n",
    "        state = state[generators[a]]\n",
    "\n",
    "    assert (goal_state == state).all().item()\n",
    "    # print(\"i:\", i)\n",
    "    # print(\"s:\", state)\n",
    "    # print(\"equal:\", (goal_state == state).all().item())\n",
    "    # break"
   ]
  },
  {
   "cell_type": "code",
   "execution_count": 14,
   "metadata": {},
   "outputs": [
    {
     "data": {
      "text/plain": [
       "tensor([ 8, 10, 36,  3,  4, 12, 27, 34, 53,  9,  5,  0, 46, 13, 19, 11, 30,  2,\n",
       "        18, 52, 15, 41, 22, 21, 47,  1, 35, 44,  7, 17, 16, 31, 37, 24, 48, 29,\n",
       "        45, 14,  6, 25, 40, 39, 42, 28, 33, 26, 23, 38, 43, 49, 50, 20, 32, 51])"
      ]
     },
     "execution_count": 14,
     "metadata": {},
     "output_type": "execute_result"
    }
   ],
   "source": []
  },
  {
   "cell_type": "code",
   "execution_count": 9,
   "metadata": {},
   "outputs": [],
   "source": [
    "full_report = open_pickle(\"../assets/reports/Cube3ResnetModel_value_policy_3_8B_14M_search_value_full.pkl\")\n",
    "prunning_report = open_pickle(\"../assets/reports/pruning_finetune_Cube3ResnetModel_value_policy_3_8B_14M_search_value_100.pkl\")"
   ]
  },
  {
   "cell_type": "code",
   "execution_count": 14,
   "metadata": {},
   "outputs": [
    {
     "data": {
      "text/plain": [
       "21.1"
      ]
     },
     "execution_count": 14,
     "metadata": {},
     "output_type": "execute_result"
    }
   ],
   "source": [
    "np.mean([d[\"solution_len\"] for d in prunning_report[:100]])"
   ]
  },
  {
   "cell_type": "code",
   "execution_count": 15,
   "metadata": {},
   "outputs": [
    {
     "data": {
      "text/plain": [
       "21.04"
      ]
     },
     "execution_count": 15,
     "metadata": {},
     "output_type": "execute_result"
    }
   ],
   "source": [
    "np.mean([d[\"solution_len\"] for d in full_report[:100]])"
   ]
  },
  {
   "cell_type": "code",
   "execution_count": null,
   "metadata": {},
   "outputs": [],
   "source": []
  }
 ],
 "metadata": {
  "kernelspec": {
   "display_name": "py11",
   "language": "python",
   "name": "python3"
  },
  "language_info": {
   "codemirror_mode": {
    "name": "ipython",
    "version": 3
   },
   "file_extension": ".py",
   "mimetype": "text/x-python",
   "name": "python",
   "nbconvert_exporter": "python",
   "pygments_lexer": "ipython3",
   "version": "3.11.7"
  }
 },
 "nbformat": 4,
 "nbformat_minor": 2
}
