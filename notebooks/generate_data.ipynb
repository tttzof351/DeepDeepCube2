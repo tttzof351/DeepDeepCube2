{
 "cells": [
  {
   "cell_type": "code",
   "execution_count": 1,
   "metadata": {},
   "outputs": [],
   "source": [
    "import os\n",
    "import sys\n",
    "\n",
    "sys.path.append(\"../\")"
   ]
  },
  {
   "cell_type": "code",
   "execution_count": 2,
   "metadata": {},
   "outputs": [
    {
     "name": "stderr",
     "output_type": "stream",
     "text": [
      "/Users/euclid/anaconda3/envs/py11/lib/python3.11/site-packages/tqdm/auto.py:21: TqdmWarning: IProgress not found. Please update jupyter and ipywidgets. See https://ipywidgets.readthedocs.io/en/stable/user_install.html\n",
      "  from .autonotebook import tqdm as notebook_tqdm\n"
     ]
    }
   ],
   "source": [
    "import time\n",
    "\n",
    "from accelerate import Accelerator\n",
    "\n",
    "import torch\n",
    "import torch.nn.functional as F\n",
    "import numpy as np\n",
    "from tqdm import tqdm\n",
    "\n",
    "from utils import open_pickle\n",
    "\n",
    "from cube3_game import Cube3Game\n",
    "from models import Pilgrim\n",
    "from g_datasets import get_torch_scrambles_3\n",
    "from utils import set_seed\n",
    "from utils import save_pickle"
   ]
  },
  {
   "cell_type": "code",
   "execution_count": 3,
   "metadata": {},
   "outputs": [],
   "source": [
    "game = Cube3Game(\"../assets/envs/qtm_cube3.pickle\")\n",
    "generators = torch.tensor(game.actions, dtype=torch.int64)"
   ]
  },
  {
   "cell_type": "code",
   "execution_count": 4,
   "metadata": {},
   "outputs": [],
   "source": [
    "deepcube_test = open_pickle(\"../assets/data/deepcubea/data_0.pkl\")"
   ]
  },
  {
   "cell_type": "code",
   "execution_count": 7,
   "metadata": {},
   "outputs": [
    {
     "name": "stdout",
     "output_type": "stream",
     "text": [
      "[8, 10, 36, 3, 4, 12, 27, 34, 53, 9, 5, 0, 46, 13, 19, 11, 30, 2, 18, 52, 15, 41, 22, 21, 47, 1, 35, 44, 7, 17, 16, 31, 37, 24, 48, 29, 45, 14, 6, 25, 40, 39, 42, 28, 33, 26, 23, 38, 43, 49, 50, 20, 32, 51]\n"
     ]
    }
   ],
   "source": [
    "print(deepcube_test['states'][0])"
   ]
  },
  {
   "cell_type": "code",
   "execution_count": 11,
   "metadata": {},
   "outputs": [],
   "source": [
    "state_size = game.actions.shape[1]\n",
    "hash_vec = torch.randint(0, 1_000_000_000_000, (state_size,))  \n",
    "generators = torch.tensor(game.actions, dtype=torch.int64)\n",
    "\n",
    "N = 10\n",
    "n = 26\n",
    "\n",
    "start = time.time()\n",
    "scrambles, actions, lengths = get_torch_scrambles_3(\n",
    "    N=1,\n",
    "    n=n,\n",
    "    generators=generators,\n",
    "    hash_vec=hash_vec,\n",
    "    device=\"cpu\"\n",
    ")\n",
    "end = time.time()"
   ]
  },
  {
   "cell_type": "code",
   "execution_count": 16,
   "metadata": {},
   "outputs": [
    {
     "name": "stdout",
     "output_type": "stream",
     "text": [
      "[53, 12, 44, 34, 4, 7, 35, 1, 42, 51, 5, 36, 19, 13, 10, 26, 14, 11, 17, 16, 2, 41, 22, 39, 15, 25, 29, 45, 28, 8, 48, 31, 23, 0, 3, 9, 47, 50, 18, 43, 40, 32, 27, 30, 20, 33, 46, 6, 21, 49, 37, 24, 52, 38]\n"
     ]
    }
   ],
   "source": [
    "print(scrambles[5, :].tolist())"
   ]
  },
  {
   "cell_type": "code",
   "execution_count": null,
   "metadata": {},
   "outputs": [],
   "source": []
  }
 ],
 "metadata": {
  "kernelspec": {
   "display_name": "py11",
   "language": "python",
   "name": "python3"
  },
  "language_info": {
   "codemirror_mode": {
    "name": "ipython",
    "version": 3
   },
   "file_extension": ".py",
   "mimetype": "text/x-python",
   "name": "python",
   "nbconvert_exporter": "python",
   "pygments_lexer": "ipython3",
   "version": "3.11.7"
  }
 },
 "nbformat": 4,
 "nbformat_minor": 2
}
