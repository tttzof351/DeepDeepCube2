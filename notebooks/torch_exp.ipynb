{
 "cells": [
  {
   "cell_type": "code",
   "execution_count": 1,
   "metadata": {},
   "outputs": [],
   "source": [
    "import time\n",
    "\n",
    "import torch\n",
    "import torch.nn.functional as F\n",
    "import numpy as np"
   ]
  },
  {
   "cell_type": "code",
   "execution_count": 5,
   "metadata": {},
   "outputs": [
    {
     "name": "stdout",
     "output_type": "stream",
     "text": [
      "torch.Size([2, 3])\n"
     ]
    }
   ],
   "source": [
    "states = torch.tensor([\n",
    "    [0, 1, 2],\n",
    "    [3, 4, 7]\n",
    "], dtype=torch.int64) # (N_STATES, STATE_SIZE)\n",
    "\n",
    "print(states.shape)\n",
    "# print(states)"
   ]
  },
  {
   "cell_type": "code",
   "execution_count": 43,
   "metadata": {},
   "outputs": [
    {
     "data": {
      "text/plain": [
       "tensor([[0, 1, 2],\n",
       "        [0, 1, 2],\n",
       "        [0, 1, 2],\n",
       "        [0, 1, 2],\n",
       "        [3, 4, 7],\n",
       "        [3, 4, 7],\n",
       "        [3, 4, 7],\n",
       "        [3, 4, 7]])"
      ]
     },
     "execution_count": 43,
     "metadata": {},
     "output_type": "execute_result"
    }
   ],
   "source": [
    "expanded_states = states.unsqueeze(dim=1).expand(\n",
    "    states.shape[0],\n",
    "    4,\n",
    "    states.shape[1],\n",
    ").reshape(\n",
    "    4 * states.shape[0],\n",
    "    states.shape[1],\n",
    ") # (N_STATES * N_GENS, STATE_SIZE)\n",
    "\n",
    "expanded_states"
   ]
  },
  {
   "cell_type": "code",
   "execution_count": 44,
   "metadata": {},
   "outputs": [
    {
     "name": "stdout",
     "output_type": "stream",
     "text": [
      "generators.shape torch.Size([4, 3])\n"
     ]
    }
   ],
   "source": [
    "generators = torch.tensor([\n",
    "    [0, 1, 2],\n",
    "    [2, 1, 0],\n",
    "    [1, 2, 0],\n",
    "    [1, 0, 2]\n",
    "])\n",
    "print(\"generators.shape\", generators.shape) # (N_GENS, STATE_SIZE)"
   ]
  },
  {
   "cell_type": "code",
   "execution_count": 49,
   "metadata": {},
   "outputs": [
    {
     "data": {
      "text/plain": [
       "tensor([0, 1, 2, 3, 0, 1, 2, 3])"
      ]
     },
     "execution_count": 49,
     "metadata": {},
     "output_type": "execute_result"
    }
   ],
   "source": [
    "expanded_actions = torch.arange(0, 4).unsqueeze(dim=0).expand(\n",
    "    states.shape[0],\n",
    "    4\n",
    ").reshape(\n",
    "    states.shape[0] * 4\n",
    ") # (N_GENS * STATE_SIZE)\n",
    "expanded_actions"
   ]
  },
  {
   "cell_type": "code",
   "execution_count": 51,
   "metadata": {},
   "outputs": [
    {
     "data": {
      "text/plain": [
       "tensor([[0, 1, 2],\n",
       "        [2, 1, 0],\n",
       "        [1, 2, 0],\n",
       "        [1, 0, 2],\n",
       "        [3, 4, 7],\n",
       "        [7, 4, 3],\n",
       "        [4, 7, 3],\n",
       "        [4, 3, 7]])"
      ]
     },
     "execution_count": 51,
     "metadata": {},
     "output_type": "execute_result"
    }
   ],
   "source": [
    "neighbours_states = torch.gather(\n",
    "    input=expanded_states,\n",
    "    dim=1,\n",
    "    index=generators[expanded_actions, :]\n",
    ")\n",
    "neighbours_states # (N_STATES * N_GENS, STATE_SIZE) [A1(S1), A2(S1), ..., AN(SN)]"
   ]
  },
  {
   "cell_type": "code",
   "execution_count": 52,
   "metadata": {},
   "outputs": [
    {
     "data": {
      "text/plain": [
       "tensor([[0, 1, 2],\n",
       "        [3, 4, 7]])"
      ]
     },
     "execution_count": 52,
     "metadata": {},
     "output_type": "execute_result"
    }
   ],
   "source": [
    "states"
   ]
  },
  {
   "cell_type": "code",
   "execution_count": 53,
   "metadata": {},
   "outputs": [
    {
     "data": {
      "text/plain": [
       "tensor([[0, 1, 2],\n",
       "        [0, 1, 2],\n",
       "        [0, 1, 2],\n",
       "        [0, 1, 2],\n",
       "        [3, 4, 7],\n",
       "        [3, 4, 7],\n",
       "        [3, 4, 7],\n",
       "        [3, 4, 7]])"
      ]
     },
     "execution_count": 53,
     "metadata": {},
     "output_type": "execute_result"
    }
   ],
   "source": [
    "expanded_states"
   ]
  },
  {
   "cell_type": "code",
   "execution_count": 54,
   "metadata": {},
   "outputs": [],
   "source": [
    "neighbors_policy = torch.tensor([\n",
    "    [-1, -2, -3, -4],\n",
    "    [-10, -20, -30, -40]\n",
    "]) # (N_STATES, N_GEN)"
   ]
  },
  {
   "cell_type": "code",
   "execution_count": 57,
   "metadata": {},
   "outputs": [
    {
     "data": {
      "text/plain": [
       "tensor([ -1,  -2,  -3,  -4, -10, -20, -30, -40])"
      ]
     },
     "execution_count": 57,
     "metadata": {},
     "output_type": "execute_result"
    }
   ],
   "source": [
    "neighbors_policy_flatten = neighbors_policy.reshape(\n",
    "    neighbors_policy.shape[0] * neighbors_policy.shape[1]\n",
    ") # (N_STATES * N_GEN) [POLICY_(A1(S1)), POLICY_(A2(S1)), ..., POLICY_(AN(SN))]\n",
    "neighbors_policy_flatten"
   ]
  },
  {
   "cell_type": "code",
   "execution_count": 58,
   "metadata": {},
   "outputs": [],
   "source": [
    "parent_cumulative_policy = torch.tensor([\n",
    "    0.1, 0.9\n",
    "]) # (N_STATES)"
   ]
  },
  {
   "cell_type": "code",
   "execution_count": 61,
   "metadata": {},
   "outputs": [
    {
     "data": {
      "text/plain": [
       "tensor([0.1000, 0.1000, 0.1000, 0.1000, 0.9000, 0.9000, 0.9000, 0.9000])"
      ]
     },
     "execution_count": 61,
     "metadata": {},
     "output_type": "execute_result"
    }
   ],
   "source": [
    "expanded_parent_cumulative_policy = parent_cumulative_policy.unsqueeze(dim=1).expand(\n",
    "    parent_cumulative_policy.shape[0],\n",
    "    4\n",
    ").reshape(\n",
    "    4 * parent_cumulative_policy.shape[0]\n",
    ") # (N_GENS * N_STATES) [CUM(S1), CUM(S1), ..., CUM(SN), CUM(SN)]\n",
    "\n",
    "expanded_parent_cumulative_policy"
   ]
  },
  {
   "cell_type": "code",
   "execution_count": 63,
   "metadata": {},
   "outputs": [
    {
     "data": {
      "text/plain": [
       "[0, 1, 2]"
      ]
     },
     "execution_count": 63,
     "metadata": {},
     "output_type": "execute_result"
    }
   ],
   "source": [
    "[0, 1, 2, 3, 4][:-2]"
   ]
  },
  {
   "cell_type": "code",
   "execution_count": null,
   "metadata": {},
   "outputs": [],
   "source": []
  }
 ],
 "metadata": {
  "kernelspec": {
   "display_name": "py11",
   "language": "python",
   "name": "python3"
  },
  "language_info": {
   "codemirror_mode": {
    "name": "ipython",
    "version": 3
   },
   "file_extension": ".py",
   "mimetype": "text/x-python",
   "name": "python",
   "nbconvert_exporter": "python",
   "pygments_lexer": "ipython3",
   "version": "3.11.7"
  }
 },
 "nbformat": 4,
 "nbformat_minor": 2
}
