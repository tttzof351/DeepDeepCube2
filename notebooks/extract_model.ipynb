{
 "cells": [
  {
   "cell_type": "code",
   "execution_count": 1,
   "metadata": {},
   "outputs": [],
   "source": [
    "import sys\n",
    "\n",
    "sys.path.append(\"../\")"
   ]
  },
  {
   "cell_type": "code",
   "execution_count": 2,
   "metadata": {},
   "outputs": [],
   "source": [
    "import numpy as np\n",
    "import torch\n",
    "from models import Pilgrim \n",
    "from utils import open_pickle\n",
    "from cube3_game import Cube3Game\n",
    "from datasets import get_torch_scrambles\n",
    "\n",
    "from sklearn.metrics import root_mean_squared_error"
   ]
  },
  {
   "cell_type": "code",
   "execution_count": 3,
   "metadata": {},
   "outputs": [
    {
     "data": {
      "text/plain": [
       "Pilgrim(\n",
       "  (input_layer): Linear(in_features=324, out_features=400, bias=True)\n",
       "  (hidden_layer): Linear(in_features=400, out_features=200, bias=True)\n",
       "  (residual_blocks): ModuleList(\n",
       "    (0-1): 2 x ResidualBlock(\n",
       "      (fc1): Linear(in_features=200, out_features=200, bias=True)\n",
       "      (bn1): BatchNorm1d(200, eps=1e-05, momentum=0.1, affine=True, track_running_stats=True)\n",
       "      (relu): ReLU()\n",
       "      (dropout): Dropout(p=0.1, inplace=False)\n",
       "      (fc2): Linear(in_features=200, out_features=200, bias=True)\n",
       "      (bn2): BatchNorm1d(200, eps=1e-05, momentum=0.1, affine=True, track_running_stats=True)\n",
       "    )\n",
       "  )\n",
       "  (output_layer): Linear(in_features=200, out_features=1, bias=True)\n",
       "  (output_probs_layer): Linear(in_features=200, out_features=12, bias=True)\n",
       "  (relu): ReLU()\n",
       "  (bn1): BatchNorm1d(400, eps=1e-05, momentum=0.1, affine=True, track_running_stats=True)\n",
       "  (bn2): BatchNorm1d(200, eps=1e-05, momentum=0.1, affine=True, track_running_stats=True)\n",
       "  (dropout): Dropout(p=0.1, inplace=False)\n",
       ")"
      ]
     },
     "execution_count": 3,
     "metadata": {},
     "output_type": "execute_result"
    }
   ],
   "source": [
    "model = Pilgrim()\n",
    "model.load_state_dict(torch.load(\"../assets/models/Cube3ResnetModel.pt\"))\n",
    "model.eval()"
   ]
  },
  {
   "cell_type": "code",
   "execution_count": 4,
   "metadata": {},
   "outputs": [],
   "source": [
    "traced_model = model.traced_model()"
   ]
  },
  {
   "cell_type": "code",
   "execution_count": 5,
   "metadata": {},
   "outputs": [],
   "source": [
    "traced_model.save(\"../assets/models/traced_Cube3ResnetModel.pt\")"
   ]
  },
  {
   "cell_type": "code",
   "execution_count": 6,
   "metadata": {},
   "outputs": [
    {
     "name": "stderr",
     "output_type": "stream",
     "text": [
      "/Users/euclid/anaconda3/envs/py11/lib/python3.11/site-packages/torch/onnx/_internal/exporter.py:136: UserWarning: torch.onnx.dynamo_export only implements opset version 18 for now. If you need to use a different opset version, please register them with register_custom_op.\n",
      "  warnings.warn(\n",
      "/Users/euclid/anaconda3/envs/py11/lib/python3.11/site-packages/torch/onnx/_internal/fx/passes/readability.py:53: UserWarning: Attempted to insert a get_attr Node with no underlying reference in the owning GraphModule! Call GraphModule.add_submodule to add the necessary submodule, GraphModule.add_parameter to add the necessary Parameter, or nn.Module.register_buffer to add the necessary buffer\n",
      "  new_node = self.module.graph.get_attr(normalized_name)\n",
      "/Users/euclid/anaconda3/envs/py11/lib/python3.11/site-packages/torch/fx/graph.py:1460: UserWarning: Node bn1_running_mean target bn1/running_mean bn1/running_mean of  does not reference an nn.Module, nn.Parameter, or buffer, which is what 'get_attr' Nodes typically target\n",
      "  warnings.warn(f'Node {node} target {node.target} {atom} of {seen_qualname} does '\n",
      "/Users/euclid/anaconda3/envs/py11/lib/python3.11/site-packages/torch/fx/graph.py:1460: UserWarning: Node bn1_running_var target bn1/running_var bn1/running_var of  does not reference an nn.Module, nn.Parameter, or buffer, which is what 'get_attr' Nodes typically target\n",
      "  warnings.warn(f'Node {node} target {node.target} {atom} of {seen_qualname} does '\n",
      "/Users/euclid/anaconda3/envs/py11/lib/python3.11/site-packages/torch/fx/graph.py:1460: UserWarning: Node bn2_running_mean target bn2/running_mean bn2/running_mean of  does not reference an nn.Module, nn.Parameter, or buffer, which is what 'get_attr' Nodes typically target\n",
      "  warnings.warn(f'Node {node} target {node.target} {atom} of {seen_qualname} does '\n",
      "/Users/euclid/anaconda3/envs/py11/lib/python3.11/site-packages/torch/fx/graph.py:1460: UserWarning: Node bn2_running_var target bn2/running_var bn2/running_var of  does not reference an nn.Module, nn.Parameter, or buffer, which is what 'get_attr' Nodes typically target\n",
      "  warnings.warn(f'Node {node} target {node.target} {atom} of {seen_qualname} does '\n",
      "/Users/euclid/anaconda3/envs/py11/lib/python3.11/site-packages/torch/fx/graph.py:1460: UserWarning: Node residual_blocks_0_bn1_running_mean target residual_blocks/0/bn1/running_mean residual_blocks/0/bn1/running_mean of  does not reference an nn.Module, nn.Parameter, or buffer, which is what 'get_attr' Nodes typically target\n",
      "  warnings.warn(f'Node {node} target {node.target} {atom} of {seen_qualname} does '\n",
      "/Users/euclid/anaconda3/envs/py11/lib/python3.11/site-packages/torch/fx/graph.py:1460: UserWarning: Node residual_blocks_0_bn1_running_var target residual_blocks/0/bn1/running_var residual_blocks/0/bn1/running_var of  does not reference an nn.Module, nn.Parameter, or buffer, which is what 'get_attr' Nodes typically target\n",
      "  warnings.warn(f'Node {node} target {node.target} {atom} of {seen_qualname} does '\n",
      "/Users/euclid/anaconda3/envs/py11/lib/python3.11/site-packages/torch/fx/graph.py:1460: UserWarning: Node residual_blocks_0_bn2_running_mean target residual_blocks/0/bn2/running_mean residual_blocks/0/bn2/running_mean of  does not reference an nn.Module, nn.Parameter, or buffer, which is what 'get_attr' Nodes typically target\n",
      "  warnings.warn(f'Node {node} target {node.target} {atom} of {seen_qualname} does '\n",
      "/Users/euclid/anaconda3/envs/py11/lib/python3.11/site-packages/torch/fx/graph.py:1460: UserWarning: Node residual_blocks_0_bn2_running_var target residual_blocks/0/bn2/running_var residual_blocks/0/bn2/running_var of  does not reference an nn.Module, nn.Parameter, or buffer, which is what 'get_attr' Nodes typically target\n",
      "  warnings.warn(f'Node {node} target {node.target} {atom} of {seen_qualname} does '\n",
      "/Users/euclid/anaconda3/envs/py11/lib/python3.11/site-packages/torch/fx/graph.py:1460: UserWarning: Node residual_blocks_1_bn1_running_mean target residual_blocks/1/bn1/running_mean residual_blocks/1/bn1/running_mean of  does not reference an nn.Module, nn.Parameter, or buffer, which is what 'get_attr' Nodes typically target\n",
      "  warnings.warn(f'Node {node} target {node.target} {atom} of {seen_qualname} does '\n",
      "/Users/euclid/anaconda3/envs/py11/lib/python3.11/site-packages/torch/fx/graph.py:1460: UserWarning: Node residual_blocks_1_bn1_running_var target residual_blocks/1/bn1/running_var residual_blocks/1/bn1/running_var of  does not reference an nn.Module, nn.Parameter, or buffer, which is what 'get_attr' Nodes typically target\n",
      "  warnings.warn(f'Node {node} target {node.target} {atom} of {seen_qualname} does '\n",
      "/Users/euclid/anaconda3/envs/py11/lib/python3.11/site-packages/torch/fx/graph.py:1460: UserWarning: Node residual_blocks_1_bn2_running_mean target residual_blocks/1/bn2/running_mean residual_blocks/1/bn2/running_mean of  does not reference an nn.Module, nn.Parameter, or buffer, which is what 'get_attr' Nodes typically target\n",
      "  warnings.warn(f'Node {node} target {node.target} {atom} of {seen_qualname} does '\n",
      "/Users/euclid/anaconda3/envs/py11/lib/python3.11/site-packages/torch/fx/graph.py:1460: UserWarning: Node residual_blocks_1_bn2_running_var target residual_blocks/1/bn2/running_var residual_blocks/1/bn2/running_var of  does not reference an nn.Module, nn.Parameter, or buffer, which is what 'get_attr' Nodes typically target\n",
      "  warnings.warn(f'Node {node} target {node.target} {atom} of {seen_qualname} does '\n"
     ]
    }
   ],
   "source": [
    "onnx_program = torch.onnx.dynamo_export(model, torch.randint(low=0, high=54, size=(2, 54)))"
   ]
  },
  {
   "cell_type": "code",
   "execution_count": null,
   "metadata": {},
   "outputs": [],
   "source": []
  }
 ],
 "metadata": {
  "kernelspec": {
   "display_name": "py11",
   "language": "python",
   "name": "python3"
  },
  "language_info": {
   "codemirror_mode": {
    "name": "ipython",
    "version": 3
   },
   "file_extension": ".py",
   "mimetype": "text/x-python",
   "name": "python",
   "nbconvert_exporter": "python",
   "pygments_lexer": "ipython3",
   "version": "3.11.7"
  }
 },
 "nbformat": 4,
 "nbformat_minor": 2
}
