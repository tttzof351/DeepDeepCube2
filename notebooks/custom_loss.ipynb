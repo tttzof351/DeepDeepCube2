{
 "cells": [
  {
   "cell_type": "code",
   "execution_count": 3,
   "metadata": {},
   "outputs": [],
   "source": [
    "import sys\n",
    "\n",
    "sys.path.append(\"../\")\n",
    "\n",
    "from utils import open_pickle\n",
    "from utils import check_solution\n",
    "from cube3_game import Cube3Game\n",
    "\n",
    "import numpy as np\n",
    "import torch\n",
    "\n",
    "from g_datasets import *"
   ]
  },
  {
   "cell_type": "code",
   "execution_count": 2,
   "metadata": {},
   "outputs": [],
   "source": [
    "optimum = open_pickle(\"../assets/data/deepcubea/data_0.pkl\")\n",
    "deepcube_res = open_pickle(\"../assets/data/deepcubea/results.pkl\")\n",
    "report = open_pickle(\"../assets/reports/Cube3ResnetModel_value_policy_3_8B_14M_search_value_full.pkl\")\n",
    "game = Cube3Game(\"../assets/envs/qtm_cube3.pickle\")\n",
    "generators = torch.tensor(game.actions, dtype=torch.int64)"
   ]
  },
  {
   "cell_type": "code",
   "execution_count": null,
   "metadata": {},
   "outputs": [],
   "source": [
    "state_size = game.actions.shape[1]\n",
    "hash_vec = torch.randint(0, 1_000_000_000_000, (state_size,))  "
   ]
  },
  {
   "cell_type": "code",
   "execution_count": null,
   "metadata": {},
   "outputs": [],
   "source": [
    "scrambles, actions, lengths = get_torch_scrambles_3(\n",
    "    N=1000,\n",
    "    n=30,\n",
    "    generators=generators,\n",
    "    hash_vec=hash_vec,\n",
    "    device=\"cpu\"\n",
    ")\n"
   ]
  }
 ],
 "metadata": {
  "kernelspec": {
   "display_name": "py11",
   "language": "python",
   "name": "python3"
  },
  "language_info": {
   "codemirror_mode": {
    "name": "ipython",
    "version": 3
   },
   "file_extension": ".py",
   "mimetype": "text/x-python",
   "name": "python",
   "nbconvert_exporter": "python",
   "pygments_lexer": "ipython3",
   "version": "3.11.7"
  }
 },
 "nbformat": 4,
 "nbformat_minor": 2
}
