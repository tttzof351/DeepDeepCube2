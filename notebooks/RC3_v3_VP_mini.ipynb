{
 "cells": [
  {
   "cell_type": "code",
   "execution_count": 1,
   "id": "faa4767a",
   "metadata": {
    "ExecuteTime": {
     "end_time": "2024-08-11T13:30:22.738199Z",
     "start_time": "2024-08-11T13:30:20.386074Z"
    }
   },
   "outputs": [],
   "source": [
    "import torch\n",
    "import torch.nn as nn\n",
    "import torch.nn.functional as F\n",
    "from torcheval.metrics.functional import r2_score\n",
    "\n",
    "import time\n",
    "import numpy as np\n",
    "import math\n",
    "import heapq\n",
    "\n",
    "import sklearn\n",
    "from sklearn import model_selection\n",
    "from sklearn import linear_model\n",
    "from catboost import CatBoostRegressor\n",
    "\n",
    "import matplotlib.pyplot as plt\n",
    "import pandas as pd\n",
    "plt.rcParams[\"font.family\"] = \"serif\"\n",
    "\n",
    "import pickle \n",
    "import json\n",
    "\n",
    "from tqdm import tqdm\n",
    "from IPython.display import clear_output\n",
    "from ipywidgets import IntProgress\n",
    "from IPython.display import display"
   ]
  },
  {
   "cell_type": "code",
   "execution_count": 2,
   "id": "454d05c7",
   "metadata": {
    "ExecuteTime": {
     "end_time": "2024-08-11T13:30:22.759427Z",
     "start_time": "2024-08-11T13:30:22.740607Z"
    }
   },
   "outputs": [],
   "source": [
    "device = torch.device(\"cuda\" if torch.cuda.is_available() else \"mps\")\n",
    "dtype_int   = torch.int64\n",
    "# dtype_float = torch.float64\n",
    "dtype_float = torch.float32"
   ]
  },
  {
   "cell_type": "markdown",
   "id": "8be196db",
   "metadata": {},
   "source": [
    "## Add"
   ]
  },
  {
   "cell_type": "code",
   "execution_count": 4,
   "id": "48e7d2d6",
   "metadata": {
    "ExecuteTime": {
     "end_time": "2024-08-11T13:30:22.764856Z",
     "start_time": "2024-08-11T13:30:22.760939Z"
    }
   },
   "outputs": [],
   "source": [
    "def tensor2set(states):\n",
    "    return {tuple(state.tolist()) for state in states}\n",
    "def set2tensor(states):\n",
    "    return torch.tensor(list(states), dtype=dtype_int)\n",
    "\n",
    "def tensor2list(states):\n",
    "    return [tuple(state.tolist()) for state in states]\n",
    "def list2tensor(states):\n",
    "    return torch.tensor(states, dtype=dtype_int)\n",
    "\n",
    "def states2X(states):\n",
    "    return torch.nn.functional.one_hot(states, num_classes=6).view(-1, state_size*6).to(torch.float)"
   ]
  },
  {
   "cell_type": "markdown",
   "id": "7ec508ff",
   "metadata": {},
   "source": [
    "## RC3 generators"
   ]
  },
  {
   "cell_type": "code",
   "execution_count": 5,
   "id": "40c9e222",
   "metadata": {
    "ExecuteTime": {
     "end_time": "2024-08-11T13:30:22.787255Z",
     "start_time": "2024-08-11T13:30:22.766596Z"
    }
   },
   "outputs": [],
   "source": [
    "# QTM\n",
    "n_gens = 12\n",
    "state_size = 54\n",
    "all_moves_kirill = list2tensor(\n",
    "    [[0,1,2,3,4,5,44,41,38,15,12,9,16,13,10,17,14,11,6,19,20,7,22,23,8,25,26,27,28,29,30,31,32,33,34,35,36,37,45,39,40,46,42,43,47,24,21,18,48,49,50,51,52,53],\n",
    "     [0,1,2,3,4,5,18,21,24,11,14,17,10,13,16,9,12,15,47,19,20,46,22,23,45,25,26,27,28,29,30,31,32,33,34,35,36,37,8,39,40,7,42,43,6,38,41,44,48,49,50,51,52,53],\n",
    "     [42,39,36,3,4,5,6,7,8,9,10,11,12,13,14,15,16,17,18,19,0,21,22,1,24,25,2,29,32,35,28,31,34,27,30,33,51,37,38,52,40,41,53,43,44,45,46,47,48,49,50,26,23,20],\n",
    "     [20,23,26,3,4,5,6,7,8,9,10,11,12,13,14,15,16,17,18,19,53,21,22,52,24,25,51,33,30,27,34,31,28,35,32,29,2,37,38,1,40,41,0,43,44,45,46,47,48,49,50,36,39,42],\n",
    "     [0,1,11,3,4,14,6,7,17,9,10,47,12,13,50,15,16,53,24,21,18,25,22,19,26,23,20,8,28,29,5,31,32,2,34,35,36,37,38,39,40,41,42,43,44,45,46,33,48,49,30,51,52,27],\n",
    "     [0,1,33,3,4,30,6,7,27,9,10,2,12,13,5,15,16,8,20,23,26,19,22,25,18,21,24,53,28,29,50,31,32,47,34,35,36,37,38,39,40,41,42,43,44,45,46,11,48,49,14,51,52,17],\n",
    "     [9,1,2,12,4,5,15,7,8,45,10,11,48,13,14,51,16,17,18,19,20,21,22,23,24,25,26,27,28,6,30,31,3,33,34,0,38,41,44,37,40,43,36,39,42,35,46,47,32,49,50,29,52,53],\n",
    "     [35,1,2,32,4,5,29,7,8,0,10,11,3,13,14,6,16,17,18,19,20,21,22,23,24,25,26,27,28,51,30,31,48,33,34,45,42,39,36,43,40,37,44,41,38,9,46,47,12,49,50,15,52,53],\n",
    "     [0,1,2,3,4,5,6,7,8,9,10,11,12,13,14,42,43,44,18,19,20,21,22,23,15,16,17,27,28,29,30,31,32,24,25,26,36,37,38,39,40,41,33,34,35,51,48,45,52,49,46,53,50,47],\n",
    "     [0,1,2,3,4,5,6,7,8,9,10,11,12,13,14,24,25,26,18,19,20,21,22,23,33,34,35,27,28,29,30,31,32,42,43,44,36,37,38,39,40,41,15,16,17,47,50,53,46,49,52,45,48,51],\n",
    "     [2,5,8,1,4,7,0,3,6,36,37,38,12,13,14,15,16,17,9,10,11,21,22,23,24,25,26,18,19,20,30,31,32,33,34,35,27,28,29,39,40,41,42,43,44,45,46,47,48,49,50,51,52,53],\n",
    "     [6,3,0,7,4,1,8,5,2,18,19,20,12,13,14,15,16,17,27,28,29,21,22,23,24,25,26,36,37,38,30,31,32,33,34,35,9,10,11,39,40,41,42,43,44,45,46,47,48,49,50,51,52,53]]\n",
    ")\n",
    "# V0 = torch.arange(6, dtype=dtype_int).repeat_interleave(state_size//6)\n",
    "V0 = torch.arange(0, 54, dtype=dtype_int)\n",
    "\n",
    "# Define inverse moves mapping\n",
    "# inverse_moves = torch.tensor([1, 0, 3, 2, 5, 4, 7, 6, 9, 8, 11, 10], dtype=dtype_int)\n",
    "\n",
    "def get_neighbors(states):\n",
    "    return torch.gather(\n",
    "        states.unsqueeze(1).expand(states.size(0), n_gens, state_size), \n",
    "        2, \n",
    "        all_moves.unsqueeze(0).expand(states.size(0), n_gens, state_size))\n",
    "\n",
    "hash_vec = torch.randint(0, 1_000_000_000_000, (state_size,))\n",
    "def state2hash(states):\n",
    "    return torch.sum(hash_vec * states, dim=1)"
   ]
  },
  {
   "cell_type": "code",
   "execution_count": 6,
   "id": "aaf53e34",
   "metadata": {},
   "outputs": [
    {
     "data": {
      "text/plain": [
       "torch.Size([12, 54])"
      ]
     },
     "execution_count": 6,
     "metadata": {},
     "output_type": "execute_result"
    }
   ],
   "source": [
    "all_moves_kirill.shape"
   ]
  },
  {
   "cell_type": "markdown",
   "id": "1026828e",
   "metadata": {},
   "source": [
    "## Change all_movies"
   ]
  },
  {
   "cell_type": "code",
   "execution_count": 7,
   "id": "b8fd94a5",
   "metadata": {},
   "outputs": [],
   "source": [
    "import sys\n",
    "\n",
    "# base_dir = \"./DeepDeepCube2\"\n",
    "base_dir = \"..\"\n",
    "\n",
    "sys.path.append(base_dir)\n",
    "\n",
    "from utils import open_pickle\n",
    "from g_datasets import reverse_actions\n",
    "\n",
    "# qtm = open_pickle(\"/teamspace/studios/this_studio/DeepDeepCube2/assets/envs/qtm_cube3.pickle\")\n",
    "qtm = open_pickle(f\"{base_dir}/assets/envs/qtm_cube3.pickle\")\n",
    "qtm_actions = torch.from_numpy(np.array(qtm[\"actions\"]))\n",
    "\n",
    "\n",
    "all_moves = qtm_actions.cpu()\n",
    "inverse_moves = reverse_actions(torch.arange(0, 12, dtype=dtype_int), n_gens=12).long()"
   ]
  },
  {
   "cell_type": "code",
   "execution_count": null,
   "id": "bcbd51fb",
   "metadata": {},
   "outputs": [],
   "source": []
  },
  {
   "cell_type": "markdown",
   "id": "190dcb71",
   "metadata": {},
   "source": [
    "## Neighborhood"
   ]
  },
  {
   "cell_type": "code",
   "execution_count": 8,
   "id": "8afc1b39",
   "metadata": {
    "ExecuteTime": {
     "end_time": "2024-08-11T13:30:23.027857Z",
     "start_time": "2024-08-11T13:30:23.024354Z"
    }
   },
   "outputs": [],
   "source": [
    "def get_unique_elements_first_idx(tensor):\n",
    "    # sort tensor\n",
    "    sorted_tensor, indices = torch.sort(tensor) \n",
    "    # find position of jumps\n",
    "    unique_mask = torch.cat((torch.tensor([True]), sorted_tensor[1:] != sorted_tensor[:-1]))\n",
    "    return indices[unique_mask]\n",
    "\n",
    "def get_next_ring_idx(ring_next, visited_hash):\n",
    "    # индексы уникальных элементов без повторов\n",
    "    new_hash = state2hash(ring_next)\n",
    "    mask = ~torch.isin(new_hash, visited_hash)\n",
    "    new_hash = new_hash[mask]\n",
    "    idx = get_unique_elements_first_idx(new_hash)\n",
    "    idx = torch.arange(ring_next.size(0))[mask][idx]\n",
    "    return idx"
   ]
  },
  {
   "cell_type": "code",
   "execution_count": 9,
   "id": "e9d20e1a",
   "metadata": {
    "ExecuteTime": {
     "end_time": "2024-08-11T13:30:23.395650Z",
     "start_time": "2024-08-11T13:30:23.198938Z"
    }
   },
   "outputs": [],
   "source": [
    "# neighborhood_size = 5\n",
    "\n",
    "# ring_0         = V0.unsqueeze(0)\n",
    "# neighborhood_S = ring_0.clone()                      # состояния окрестности\n",
    "# neighborhood_Y = torch.tensor((0,), dtype=dtype_int) # дистанция окрестности\n",
    "# neighborhood_Z = torch.tensor((0,), dtype=dtype_int) # мосты окрестности\n",
    "# visited_hash   = state2hash(neighborhood_S)\n",
    "\n",
    "# ring_last = ring_0.clone()\n",
    "# for j in tqdm(range(1, neighborhood_size+1)):\n",
    "#     # do all steps\n",
    "#     ring_next  = get_neighbors(ring_last).flatten(end_dim=1)\n",
    "#     moves_next = torch.arange(12).repeat(ring_last.size(0))\n",
    "    \n",
    "#     # delete steps back and copies\n",
    "#     idx        = get_next_ring_idx(ring_next, visited_hash)\n",
    "#     ring_next  = ring_next[idx]\n",
    "#     moves_next = moves_next[idx]\n",
    "    \n",
    "#     # save ring\n",
    "#     neighborhood_S = torch.concat((neighborhood_S, ring_next))\n",
    "#     neighborhood_Y = torch.concat((neighborhood_Y, torch.tensor([j] * ring_next.size(0))))\n",
    "#     neighborhood_Z = torch.concat((neighborhood_Z, inverse_moves[moves_next]))\n",
    "    \n",
    "#     # prepare to next step\n",
    "#     visited_hash   = torch.concat((visited_hash, state2hash(ring_next)))\n",
    "#     ring_last      = ring_next.clone()\n",
    "# clear_output()\n",
    "\n",
    "# neighborhood_X = states2X(neighborhood_S)\n",
    "# neighborhood_H = state2hash(neighborhood_S)\n",
    "# print(f\"# states in V0 neighborhood {neighborhood_size} = {neighborhood_X.size(0)}\")"
   ]
  },
  {
   "cell_type": "markdown",
   "id": "7557ab7e",
   "metadata": {},
   "source": [
    "## Dataset"
   ]
  },
  {
   "cell_type": "code",
   "execution_count": 10,
   "id": "998ecee8",
   "metadata": {
    "ExecuteTime": {
     "end_time": "2024-08-11T13:30:24.393658Z",
     "start_time": "2024-08-11T13:30:24.387133Z"
    }
   },
   "outputs": [],
   "source": [
    "def do_random_step(states, last_moves):\n",
    "    # Создаем массив возможных ходов для каждого состояния, исключая обратные ходы\n",
    "    possible_moves = torch.ones((states.size(0), n_gens), dtype=torch.bool)\n",
    "    possible_moves[torch.arange(states.size(0)), inverse_moves[last_moves]] = False\n",
    "    \n",
    "    # Генерация случайных индексов допустимых ходов\n",
    "    next_moves = torch.multinomial(possible_moves.float(), 1).squeeze()\n",
    "    \n",
    "    # Применение ходов к состояниям и возврат новых состояний и последних ходов\n",
    "    # print(\"do_random_step, states:\", states.shape)\n",
    "    # print(\"do_random_step, all_moves:\", all_moves.shape)\n",
    "    # print(\"do_random_step, next_moves:\", next_moves.shape)\n",
    "    # print(\"do_random_step, all_moves[next_moves]:\", all_moves[next_moves].shape)\n",
    "    return torch.gather(states, 1, all_moves[next_moves]), next_moves\n",
    "\n",
    "def generate_random_walks(k=10000, K_min=1, K_max=28):\n",
    "    dataset = torch.zeros(((K_max - K_min + 1) * k, state_size), dtype=dtype_int)\n",
    "    Ks = torch.arange(K_min, K_max+1).repeat_interleave(k)\n",
    "    Zs = torch.zeros(((K_max - K_min + 1) * k,), dtype=dtype_int)\n",
    "    for (j, K) in enumerate(range(K_min, K_max+1)):\n",
    "        states = V0.repeat(k, 1)\n",
    "        last_moves = torch.full((k,), -1, dtype=dtype_int)  # Initialize with invalid move index\n",
    "        for _ in range(K):\n",
    "            states, last_moves = do_random_step(states, last_moves)\n",
    "        dataset[j * k : (j+1) * k] = states\n",
    "        Zs[j * k : (j+1) * k] = inverse_moves[last_moves]\n",
    "    \n",
    "    dataset_hash = state2hash(dataset)\n",
    "    mask = ~torch.isin(dataset_hash, neighborhood_H)\n",
    "    \n",
    "    dataset = torch.concat((neighborhood_S, dataset[mask]))\n",
    "    Ks      = torch.concat((neighborhood_Y, Ks[mask]))\n",
    "    Zs      = torch.concat((neighborhood_Z, Zs[mask]))\n",
    "    \n",
    "    return dataset, Ks, Zs"
   ]
  },
  {
   "cell_type": "code",
   "execution_count": 11,
   "id": "cb37bba9",
   "metadata": {
    "ExecuteTime": {
     "end_time": "2024-08-11T13:30:25.413993Z",
     "start_time": "2024-08-11T13:30:25.402729Z"
    }
   },
   "outputs": [],
   "source": [
    "def generate_xyz_dataset(k=100000, K_min=1, K_max=28):\n",
    "    dataset, Ks, Zs = generate_random_walks(k=k, K_min=K_min, K_max=K_max)\n",
    "\n",
    "    IDX = torch.arange(dataset.size(0))\n",
    "    idx_train, idx_val = sklearn.model_selection.train_test_split(IDX, test_size=0.2)\n",
    "    \n",
    "    X = torch.nn.functional.one_hot(dataset, num_classes=6).view(-1, state_size*6)\n",
    "    X_train = X[idx_train].to(torch.float)\n",
    "    Y_train = Ks[idx_train].to(torch.float)\n",
    "    Z_train = Zs[idx_train]\n",
    "    X_val   = X[idx_val].to(torch.float)\n",
    "    Y_val   = Ks[idx_val].to(torch.float)\n",
    "    Z_val   = Zs[idx_val]\n",
    "    \n",
    "    return X_train, Y_train, Z_train, X_val, Y_val, Z_val"
   ]
  },
  {
   "cell_type": "markdown",
   "id": "2d8d8b99",
   "metadata": {},
   "source": [
    "## Test"
   ]
  },
  {
   "cell_type": "code",
   "execution_count": 12,
   "id": "caf5543d",
   "metadata": {
    "ExecuteTime": {
     "end_time": "2024-08-11T13:30:31.333026Z",
     "start_time": "2024-08-11T13:30:26.720189Z"
    }
   },
   "outputs": [],
   "source": [
    "# XYZ = generate_xyz_dataset(k=60_000, K_min=1, K_max=30)"
   ]
  },
  {
   "cell_type": "code",
   "execution_count": 13,
   "id": "04da800c",
   "metadata": {
    "ExecuteTime": {
     "end_time": "2024-08-11T13:30:31.339035Z",
     "start_time": "2024-08-11T13:30:31.335809Z"
    }
   },
   "outputs": [],
   "source": [
    "# # pred_v, pred_p = batch_processVP(model, XYZ[0], device, 4096)\n",
    "# # pred_v, pred_p = pred_v.cpu(), pred_p.cpu()\n",
    "# true_v, true_p = XYZ[1], XYZ[2]"
   ]
  },
  {
   "cell_type": "code",
   "execution_count": null,
   "id": "474824d5",
   "metadata": {},
   "outputs": [],
   "source": []
  },
  {
   "cell_type": "markdown",
   "id": "e35f495e",
   "metadata": {},
   "source": [
    "## Beam Search"
   ]
  },
  {
   "cell_type": "code",
   "execution_count": 14,
   "id": "03f848fe",
   "metadata": {
    "ExecuteTime": {
     "end_time": "2024-08-11T13:31:43.104228Z",
     "start_time": "2024-08-11T13:31:43.094037Z"
    }
   },
   "outputs": [],
   "source": [
    "class TimeContext:\n",
    "    def __init__(self, label: str):\n",
    "        self.label = label\n",
    "\n",
    "    def __enter__(self):\n",
    "        self.start = time.time()\n",
    "\n",
    "    def __exit__(self, exc_type, exc_value, traceback):\n",
    "        self.end = time.time()\n",
    "        if self.label not in log.keys():\n",
    "            log[self.label] = []\n",
    "        log[self.label].append(self.end - self.start)"
   ]
  },
  {
   "cell_type": "code",
   "execution_count": 15,
   "id": "0411d669",
   "metadata": {
    "ExecuteTime": {
     "end_time": "2024-08-11T13:31:51.115726Z",
     "start_time": "2024-08-11T13:31:51.108917Z"
    }
   },
   "outputs": [],
   "source": [
    "torch.set_float32_matmul_precision('high') #high, highest"
   ]
  },
  {
   "cell_type": "code",
   "execution_count": 16,
   "id": "f8c5c7bd",
   "metadata": {
    "ExecuteTime": {
     "end_time": "2024-08-11T13:31:51.296121Z",
     "start_time": "2024-08-11T13:31:51.283868Z"
    }
   },
   "outputs": [],
   "source": [
    "def batch_processVP(model, data, device, batch_size):\n",
    "    \"\"\"\n",
    "    Process data through a model in batches.\n",
    "\n",
    "    :param data: Tensor of input data\n",
    "    :param model: A PyTorch model with a forward method that accepts data\n",
    "    :param device: Device to perform computations (e.g., 'cuda', 'cpu')\n",
    "    :param batch_size: Number of samples per batch\n",
    "    :return: Concatenated tensor of model outputs\n",
    "    \"\"\"\n",
    "    n_samples = data.size(0)\n",
    "    outputs_v = torch.zeros((n_samples,), dtype=dtype_float, device=device)\n",
    "    outputs_p = torch.zeros((n_samples,n_gens), dtype=dtype_float, device=device)\n",
    "\n",
    "    # Process each batch\n",
    "    for start in range(0, n_samples, batch_size):\n",
    "        end = start + batch_size\n",
    "        batch = data[start:end].to(device)\n",
    "\n",
    "        with torch.no_grad():\n",
    "            batch_output_v, batch_output_p = model(batch)\n",
    "        \n",
    "        # Store the output\n",
    "        outputs_v[start:end] = batch_output_v.squeeze(dim=1)\n",
    "        outputs_p[start:end] = batch_output_p\n",
    "\n",
    "    return outputs_v, outputs_p"
   ]
  },
  {
   "cell_type": "code",
   "execution_count": 17,
   "id": "217bd1cf",
   "metadata": {
    "ExecuteTime": {
     "end_time": "2024-08-11T13:31:52.302215Z",
     "start_time": "2024-08-11T13:31:52.293277Z"
    }
   },
   "outputs": [],
   "source": [
    "dummy_true = torch.tensor([True])\n",
    "def get_unique_states(states):\n",
    "    hashed = torch.sum(hash_vec * states, dim=1)\n",
    "    hashed_sorted, idx = torch.sort(hashed)\n",
    "    mask = torch.concat((dummy_true, hashed_sorted[1:] - hashed_sorted[:-1] > 0))\n",
    "    return states[idx[mask]], idx[mask]"
   ]
  },
  {
   "cell_type": "code",
   "execution_count": 18,
   "id": "1ea9161a",
   "metadata": {
    "ExecuteTime": {
     "end_time": "2024-08-11T13:31:52.462644Z",
     "start_time": "2024-08-11T13:31:52.438787Z"
    }
   },
   "outputs": [],
   "source": [
    "def check_B(B, tests, num_steps=100, device=torch.device(\"cpu\")):\n",
    "    global all_moves, hash_vec, dummy_true, V0\n",
    "    \n",
    "    all_moves = all_moves.to(device)\n",
    "    hash_vec = hash_vec.to(device)\n",
    "    dummy_true = dummy_true.to(device)\n",
    "    V0 = V0.to(device)\n",
    "    \n",
    "    paths    = []\n",
    "    ts = []\n",
    "    num_tests = tests.size(0)\n",
    "    for i in tqdm(range(num_tests), desc=f'B={B:6d}'):\n",
    "        states = tests[i].unsqueeze(0).to(device)\n",
    "        y_pred = torch.tensor([0], dtype=dtype_float, device=device)\n",
    "        \n",
    "        t1 = time.time()\n",
    "        for j in range(num_steps):\n",
    "            states, y_pred, idx = do_greedy_step(states, y_pred, B)\n",
    "            if (states==V0).all(dim=1).any():\n",
    "                break\n",
    "        t2 = time.time()\n",
    "        \n",
    "        if j+1 < num_steps:\n",
    "            ts.append(t2-t1)\n",
    "            paths.append(j+1)\n",
    "        else:\n",
    "            print(\"Not found!\")\n",
    "            \n",
    "    clear_output()\n",
    "    \n",
    "    win_prob = len(paths) / num_tests\n",
    "    print(f\"beam size    = {B}\")\n",
    "    print(f\"# tests      = {num_tests}\")\n",
    "    print(f\"win prob     = {win_prob:.3f}\")\n",
    "    print(f\"time         = {np.mean(ts):.2f} s\")\n",
    "    print(f\"avg path len = {np.mean(paths):.1f} ± {np.std(paths)/np.sqrt(len(paths)):.2f}\")\n",
    "    \n",
    "    return paths, win_prob, ts"
   ]
  },
  {
   "cell_type": "code",
   "execution_count": 19,
   "id": "ae6a8db9",
   "metadata": {
    "ExecuteTime": {
     "end_time": "2024-08-11T13:31:57.214045Z",
     "start_time": "2024-08-11T13:31:57.203499Z"
    }
   },
   "outputs": [],
   "source": [
    "def get_tests(num_tests, R=1000):\n",
    "    states = V0.unsqueeze(0).repeat(num_tests, 1)\n",
    "    last_move = torch.full((num_tests,), -1, dtype=dtype_int)  # initialize with invalid move index\n",
    "    R = 1000\n",
    "    for _ in range(R):\n",
    "        states, last_move = do_random_step(states, last_move)\n",
    "    mask = torch.randint(0,1+1, (num_tests,)) > 0 # random parity\n",
    "    states[mask], last_move[mask] = do_random_step(states[mask], last_move[mask])\n",
    "    return states"
   ]
  },
  {
   "cell_type": "markdown",
   "id": "3c8c720b",
   "metadata": {},
   "source": [
    "## Model"
   ]
  },
  {
   "cell_type": "code",
   "execution_count": 20,
   "id": "97aefc07",
   "metadata": {
    "ExecuteTime": {
     "end_time": "2024-08-11T13:39:25.792639Z",
     "start_time": "2024-08-11T13:39:25.786318Z"
    }
   },
   "outputs": [],
   "source": [
    "# from pilgrim import PilgrimVP, count_parameters\n",
    "# model = PilgrimVP(input_dim=6*state_size, hd1=5000, hd2=1000)\n",
    "\n",
    "# model.to(device)\n",
    "# model.eval()\n",
    "\n",
    "# print(\"model is ready:\", count_parameters(model))\n",
    "# print(model.load_state_dict(torch.load(\"weights/VP_5000x1000_0.pth\")))"
   ]
  },
  {
   "cell_type": "code",
   "execution_count": 28,
   "id": "3fdeb594",
   "metadata": {},
   "outputs": [],
   "source": [
    "import sys\n",
    "sys.path.append(\"./DeepDeepCube2\")\n",
    "\n",
    "from models import Pilgrim, count_parameters\n",
    "\n",
    "# model = Pilgrim(\n",
    "#     input_dim = 54, \n",
    "#     hidden_dim1 = 5000, \n",
    "#     hidden_dim2 = 1000, \n",
    "#     num_residual_blocks = 4 \n",
    "# ) # ~14M\n",
    "\n",
    "# model.to(device)\n",
    "# model.eval()\n",
    "\n",
    "# print(\"model is ready:\", count_parameters(model))\n",
    "# print(model.load_state_dict(torch.load(\n",
    "#     f\"{base_dir}/assets/models/Cube3ResnetModel_value_policy_3_8B_14M.pt\",\n",
    "#     map_location=device\n",
    "# )))\n",
    "model = torch.load(f\"{base_dir}/assets/models/pruning_finetune_Cube3ResnetModel_value_policy_3_8B_14M.pt\", map_location=device)"
   ]
  },
  {
   "cell_type": "code",
   "execution_count": null,
   "id": "8508d175",
   "metadata": {
    "ExecuteTime": {
     "end_time": "2024-08-11T13:39:29.720987Z",
     "start_time": "2024-08-11T13:39:29.602383Z"
    }
   },
   "outputs": [],
   "source": []
  },
  {
   "cell_type": "code",
   "execution_count": 29,
   "id": "35e6798b",
   "metadata": {
    "ExecuteTime": {
     "end_time": "2024-08-11T13:39:39.367662Z",
     "start_time": "2024-08-11T13:39:39.361055Z"
    }
   },
   "outputs": [],
   "source": [
    "def pred_d(states):\n",
    "    pred_v, pred_p = batch_processVP(model, states, device, 4096)\n",
    "    mask_finish = (states==V0).all(dim=1)\n",
    "    pred_v[mask_finish] = 0\n",
    "    return torch.clip(pred_v, 0, torch.inf), pred_p, mask_finish.any()"
   ]
  },
  {
   "cell_type": "code",
   "execution_count": 30,
   "id": "48ab233b",
   "metadata": {
    "ExecuteTime": {
     "end_time": "2024-08-11T13:40:00.210506Z",
     "start_time": "2024-08-11T13:40:00.203060Z"
    }
   },
   "outputs": [],
   "source": [
    "# value\n",
    "def do_greedy_step(states, value_last, B=1000):\n",
    "    # индексы элементов\n",
    "    idx0 = torch.arange(states.size(0), device=device).repeat_interleave(n_gens)\n",
    "    # найти соседей\n",
    "    neighbors = get_neighbors(states).flatten(end_dim=1)\n",
    "    # отфильтровать соседей\n",
    "    neighbors, idx1 = get_unique_states(neighbors)\n",
    "    # посчитать value на соседях\n",
    "    value = pred_d(neighbors)[0]\n",
    "    # отсортировать и обрубить\n",
    "    idx2 = torch.argsort(value)[:B]\n",
    "    return neighbors[idx2], value[idx2], idx0[idx1[idx2]]"
   ]
  },
  {
   "cell_type": "code",
   "execution_count": 31,
   "id": "bf3f31ce",
   "metadata": {
    "ExecuteTime": {
     "end_time": "2024-08-11T13:40:16.548143Z",
     "start_time": "2024-08-11T13:40:16.542415Z"
    }
   },
   "outputs": [],
   "source": [
    "# # policy\n",
    "# def do_greedy_step(states, policy_last, B=1000):\n",
    "#     # распространить policy_last\n",
    "#     with TimeContext(\"policy_repeat\"):\n",
    "#         idx0 = torch.arange(states.size(0), device=device).repeat_interleave(n_gens)\n",
    "#         policy_last = policy_last.repeat_interleave(n_gens)\n",
    "#     # посчитать policy\n",
    "#     with TimeContext(\"pred_d\"):\n",
    "#         policy = pred_d(states)[1]\n",
    "#         policy = F.softmax(policy, dim=1)\n",
    "#         policy = policy.flatten()\n",
    "#     # найти соседей\n",
    "#     with TimeContext(\"get_neighbors\"):\n",
    "#         neighbors = get_neighbors(states).flatten(end_dim=1)\n",
    "#     # отфильтровать соседей\n",
    "#     with TimeContext(\"get_unique_states\"):\n",
    "#         neighbors, idx1 = get_unique_states(neighbors)\n",
    "#     # отсортировать и обрубить\n",
    "#     with TimeContext(\"argsort\"):\n",
    "#         policy_next = policy_last[idx1] + torch.log(policy[idx1])\n",
    "#         idx2 = torch.argsort(-policy_next)[:B]\n",
    "#     return neighbors[idx2], policy_next[idx2], idx0[idx1[idx2]]"
   ]
  },
  {
   "cell_type": "markdown",
   "id": "badfd89d",
   "metadata": {},
   "source": [
    "## Run"
   ]
  },
  {
   "cell_type": "code",
   "execution_count": 32,
   "id": "49c25498",
   "metadata": {
    "ExecuteTime": {
     "end_time": "2024-08-11T13:40:25.904964Z",
     "start_time": "2024-08-11T13:40:25.690749Z"
    }
   },
   "outputs": [],
   "source": [
    "tests = get_tests(10)"
   ]
  },
  {
   "cell_type": "code",
   "execution_count": 33,
   "id": "6609e2d0",
   "metadata": {
    "ExecuteTime": {
     "end_time": "2024-08-11T13:40:36.123931Z",
     "start_time": "2024-08-11T13:40:25.906765Z"
    }
   },
   "outputs": [
    {
     "name": "stdout",
     "output_type": "stream",
     "text": [
      "beam size    = 100\n",
      "# tests      = 10\n",
      "win prob     = 0.600\n",
      "time         = 6.44 s\n",
      "avg path len = 38.7 ± 3.16\n"
     ]
    }
   ],
   "source": [
    "# value\n",
    "log = {}\n",
    "paths, *_ = check_B(100, tests.to(device), device=device)"
   ]
  },
  {
   "cell_type": "code",
   "execution_count": null,
   "id": "3a94d1ed",
   "metadata": {
    "ExecuteTime": {
     "end_time": "2024-08-11T13:40:36.132517Z",
     "start_time": "2024-08-11T13:40:36.126213Z"
    }
   },
   "outputs": [],
   "source": [
    "pd.Series(paths).value_counts()"
   ]
  },
  {
   "cell_type": "code",
   "execution_count": null,
   "id": "6d17cd5f",
   "metadata": {
    "ExecuteTime": {
     "end_time": "2024-08-11T13:40:21.728161Z",
     "start_time": "2024-08-11T13:40:21.713291Z"
    }
   },
   "outputs": [],
   "source": [
    "# time in ms\n",
    "pd.DataFrame(log).mean() * 1e3"
   ]
  },
  {
   "cell_type": "code",
   "execution_count": null,
   "id": "a5fd226b",
   "metadata": {},
   "outputs": [],
   "source": []
  }
 ],
 "metadata": {
  "kernelspec": {
   "display_name": "py11",
   "language": "python",
   "name": "python3"
  },
  "language_info": {
   "codemirror_mode": {
    "name": "ipython",
    "version": 3
   },
   "file_extension": ".py",
   "mimetype": "text/x-python",
   "name": "python",
   "nbconvert_exporter": "python",
   "pygments_lexer": "ipython3",
   "version": "3.11.7"
  }
 },
 "nbformat": 4,
 "nbformat_minor": 5
}
