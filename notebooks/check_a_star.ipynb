{
 "cells": [
  {
   "cell_type": "code",
   "execution_count": 1,
   "metadata": {},
   "outputs": [],
   "source": [
    "import sys\n",
    "\n",
    "sys.path.append(\"../\")"
   ]
  },
  {
   "cell_type": "code",
   "execution_count": 5,
   "metadata": {},
   "outputs": [],
   "source": [
    "from utils import open_pickle\n",
    "from utils import check_solution\n",
    "from cube3_game import Cube3Game\n",
    "\n",
    "import numpy as np\n",
    "import torch"
   ]
  },
  {
   "cell_type": "code",
   "execution_count": 13,
   "metadata": {},
   "outputs": [],
   "source": [
    "optimum = open_pickle(\"../assets/data/deepcubea/data_0.pkl\")\n",
    "deepcube_res = open_pickle(\"../assets/data/deepcubea/results.pkl\")\n",
    "report = open_pickle(\"../assets/reports/Cube3ResnetModel_value_policy_3_8B_14M_search_value_full.pkl\")\n",
    "game = Cube3Game(\"../assets/envs/qtm_cube3.pickle\")\n",
    "generators = torch.tensor(game.actions, dtype=torch.int64)"
   ]
  },
  {
   "cell_type": "code",
   "execution_count": 26,
   "metadata": {},
   "outputs": [
    {
     "name": "stdout",
     "output_type": "stream",
     "text": [
      "tensor([ 0,  1,  2,  3,  4,  5,  6,  7,  8,  9, 10, 11, 12, 13, 14, 15, 16, 17,\n",
      "        18, 19, 20, 21, 22, 23, 24, 25, 26, 27, 28, 29, 30, 31, 32, 33, 34, 35,\n",
      "        36, 37, 38, 39, 40, 41, 42, 43, 44, 45, 46, 47, 48, 49, 50, 51, 52, 53])\n"
     ]
    }
   ],
   "source": [
    "solution_1 = [6, 10, 11,  4,  5,  3,  6, 11,  8,  6, 10,  5,  1,  3,  2,  0, 11]\n",
    "solution_2 = [9, 10,  7,  3, 11,  4,  0,  7, 11, 11, 10,  0,  9,  5,  5,  1,  1,  8, 8]\n",
    "solution_3 = [1,  2, 10,  0,  5,  3, 10,  1,  5,  6,  6,  8,  9,  5,  7, 11,  8,  7, 5,  2,  7,  9]\n",
    "solution_4 = [9, 0, 8, 1, 0, 0, 6, 0, 8, 4, 9, 9, 6, 4, 7, 5, 2, 1, 0, 4]\n",
    "state = torch.tensor(deepcube_res['states'][0], dtype=torch.int64)#.unsqueeze(0)\n",
    "\n",
    "for a in solution_3:\n",
    "    state = state[generators[a]]    \n",
    "print(state)"
   ]
  },
  {
   "cell_type": "code",
   "execution_count": 287,
   "metadata": {},
   "outputs": [
    {
     "name": "stdout",
     "output_type": "stream",
     "text": [
      "PROB tensor([2.5166e-14, 5.5431e-10, 2.5166e-14, 1.2209e-05, 7.3103e-01, 1.2209e-05,\n",
      "        1.2209e-05, 2.6893e-01], dtype=torch.float64)\n",
      "SOFTMAX: tensor([4, 7, 6, 5, 3])\n",
      "ARGSORT: tensor([4, 7, 3, 5, 6])\n",
      "PROB: tensor([4, 7, 3, 5, 6])\n"
     ]
    }
   ],
   "source": [
    "A = torch.tensor([1, 2, 1, 3, 4.1, 3, 3, 4])\n",
    "\n",
    "# A_prob = A / A.sum()\n",
    "T = 1e-1\n",
    "# T = 10.0\n",
    "A_prob = torch.softmax(A.double() / T , dim=0)\n",
    "\n",
    "N = 5\n",
    "\n",
    "index_1 = A_prob.multinomial(num_samples=N, replacement=False)\n",
    "index_2 = torch.argsort(A, descending=True)[:N]\n",
    "index_3 = torch.argsort(A_prob, descending=True)[:N]\n",
    "\n",
    "print(\"PROB\", A_prob)\n",
    "print(\"SOFTMAX:\", index_1)\n",
    "print(\"ARGSORT:\", index_2)\n",
    "print(\"PROB:\", index_3)"
   ]
  },
  {
   "cell_type": "code",
   "execution_count": 325,
   "metadata": {},
   "outputs": [
    {
     "name": "stdout",
     "output_type": "stream",
     "text": [
      "tensor([ 0,  1,  2,  3,  4,  5,  6,  7,  8,  9, 10, 11, 12, 13, 14, 15, 16, 17,\n",
      "        18, 19, 20, 21, 22, 23, 24, 25, 26, 27, 28, 29, 30, 31, 32, 33, 34, 35,\n",
      "        36, 37, 38, 39, 40, 41, 42, 43, 44, 45, 46, 47, 48, 49, 50, 51, 52, 53])\n"
     ]
    }
   ],
   "source": [
    "# solution_1 = [5,  6, 10,  1, 10,  1,  1, 10,  0,  1,  5,  1,  6, 11,  7, 10,  1,  1, 9, 11]\n",
    "solution_1 = [2, 9, 0, 9, 4, 0, 11, 1, 4, 3, 1, 5, 5, 1, 1, 8, 10, 2, 4, 8, 5, 2, 11]\n",
    "state = torch.tensor(deepcube_res['states'][1], dtype=torch.int64)#.unsqueeze(0)\n",
    "\n",
    "for a in solution_1:\n",
    "    state = state[generators[a]]    \n",
    "print(state)"
   ]
  },
  {
   "cell_type": "code",
   "execution_count": 326,
   "metadata": {},
   "outputs": [
    {
     "data": {
      "text/plain": [
       "23"
      ]
     },
     "execution_count": 326,
     "metadata": {},
     "output_type": "execute_result"
    }
   ],
   "source": [
    "len(solution_1)"
   ]
  },
  {
   "cell_type": "code",
   "execution_count": null,
   "metadata": {},
   "outputs": [],
   "source": []
  }
 ],
 "metadata": {
  "kernelspec": {
   "display_name": "py11",
   "language": "python",
   "name": "python3"
  },
  "language_info": {
   "codemirror_mode": {
    "name": "ipython",
    "version": 3
   },
   "file_extension": ".py",
   "mimetype": "text/x-python",
   "name": "python",
   "nbconvert_exporter": "python",
   "pygments_lexer": "ipython3",
   "version": "3.11.7"
  }
 },
 "nbformat": 4,
 "nbformat_minor": 2
}
