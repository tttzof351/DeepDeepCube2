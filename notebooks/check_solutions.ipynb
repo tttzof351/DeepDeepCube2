{
 "cells": [
  {
   "cell_type": "code",
   "execution_count": 1,
   "metadata": {},
   "outputs": [],
   "source": [
    "import sys\n",
    "\n",
    "sys.path.append(\"../\")"
   ]
  },
  {
   "cell_type": "code",
   "execution_count": 2,
   "metadata": {},
   "outputs": [],
   "source": [
    "from utils import open_pickle\n",
    "from utils import check_solution\n",
    "from cube3_game import Cube3Game\n",
    "\n",
    "import numpy as np"
   ]
  },
  {
   "cell_type": "code",
   "execution_count": 24,
   "metadata": {},
   "outputs": [],
   "source": [
    "optimum = open_pickle(\"../assets/data/deepcubea/data_0.pkl\")\n",
    "deepcube_res = open_pickle(\"../assets/data/deepcubea/results.pkl\")\n",
    "report = open_pickle(\"../assets/reports/Cube3ResnetModel_value_policy_3_8B_14M_search_value_full.pkl\")\n",
    "game = Cube3Game(\"../assets/envs/qtm_cube3.pickle\")"
   ]
  },
  {
   "cell_type": "code",
   "execution_count": 11,
   "metadata": {},
   "outputs": [
    {
     "data": {
      "text/plain": [
       "array([44, 25, 36, 32,  4, 10, 35, 50, 51, 42, 48, 26, 34, 13, 16, 29, 41,\n",
       "       24,  9, 28, 15, 14, 22, 46,  0, 43, 20, 11,  1,  8,  5, 31,  3, 53,\n",
       "       39, 17,  6, 12, 27, 37, 40, 21, 18, 52, 33, 47, 19,  2, 30, 49,  7,\n",
       "       45, 23, 38])"
      ]
     },
     "execution_count": 11,
     "metadata": {},
     "output_type": "execute_result"
    }
   ],
   "source": [
    "i = 42\n",
    "np.array(optimum[\"states\"][i])"
   ]
  },
  {
   "cell_type": "code",
   "execution_count": 15,
   "metadata": {},
   "outputs": [
    {
     "data": {
      "text/plain": [
       "array([44, 25, 36, 32,  4, 10, 35, 50, 51, 42, 48, 26, 34, 13, 16, 29, 41,\n",
       "       24,  9, 28, 15, 14, 22, 46,  0, 43, 20, 11,  1,  8,  5, 31,  3, 53,\n",
       "       39, 17,  6, 12, 27, 37, 40, 21, 18, 52, 33, 47, 19,  2, 30, 49,  7,\n",
       "       45, 23, 38])"
      ]
     },
     "execution_count": 15,
     "metadata": {},
     "output_type": "execute_result"
    }
   ],
   "source": [
    "np.array(report[i]['state'])"
   ]
  },
  {
   "cell_type": "code",
   "execution_count": 17,
   "metadata": {},
   "outputs": [],
   "source": [
    "optimum_lens = [len(optimum['solutions'][i]) for i in range(1000)]\n",
    "report_lens = [len(report[i]['solution']) for i in range(1000)]"
   ]
  },
  {
   "cell_type": "code",
   "execution_count": 35,
   "metadata": {},
   "outputs": [
    {
     "data": {
      "text/plain": [
       "21.065"
      ]
     },
     "execution_count": 35,
     "metadata": {},
     "output_type": "execute_result"
    }
   ],
   "source": [
    "np.mean(report_lens)"
   ]
  },
  {
   "cell_type": "code",
   "execution_count": 37,
   "metadata": {},
   "outputs": [
    {
     "name": "stdout",
     "output_type": "stream",
     "text": [
      "count_equal_length 787\n",
      "count_qual_solutions: 56\n",
      "count_NOT_equal_solutions: 731\n"
     ]
    }
   ],
   "source": [
    "count_equal_lenss = 0\n",
    "count_qual_solutions = 0\n",
    "count_NOT_equal_solutions = 0\n",
    "for i in range(1000):\n",
    "    if optimum_lens[i] == report_lens[i]:\n",
    "        count_equal_lenss += 1\n",
    "        optimum_solution =np.array([game.tuple_to_id(a) for a in optimum['solutions'][i]])\n",
    "        report_solution = np.array(report[i]['solution'])\n",
    "\n",
    "        if np.all(optimum_solution == report_solution):\n",
    "            count_qual_solutions += 1\n",
    "        else:\n",
    "            count_NOT_equal_solutions += 1\n",
    "            # print(\"Bingo!\")\n",
    "        \n",
    "        \n",
    "        # print(\"optimum_solution:\", optimum_solution)\n",
    "        # print(\"report_solution:\", report_solution)\n",
    "\n",
    "        # break\n",
    "        # print(i)\n",
    "print(f\"count_equal_length {count_equal_lenss}\")\n",
    "print(f\"count_qual_solutions: {count_qual_solutions}\")\n",
    "print(f\"count_NOT_equal_solutions: {count_NOT_equal_solutions}\")"
   ]
  },
  {
   "cell_type": "code",
   "execution_count": null,
   "metadata": {},
   "outputs": [],
   "source": []
  },
  {
   "cell_type": "code",
   "execution_count": null,
   "metadata": {},
   "outputs": [],
   "source": []
  },
  {
   "cell_type": "code",
   "execution_count": 20,
   "metadata": {},
   "outputs": [],
   "source": [
    "def check_solution(game, state, solution):\n",
    "    if len(solution) == 0:\n",
    "        return False\n",
    "    \n",
    "    if solution[0] == -1:\n",
    "        solution = solution[1:]\n",
    "\n",
    "    for action in solution:\n",
    "        state = game.apply_action(state, action)\n",
    "\n",
    "    return game.is_goal(state)"
   ]
  },
  {
   "cell_type": "code",
   "execution_count": 22,
   "metadata": {},
   "outputs": [],
   "source": [
    "for i in range(len(report[\"states\"])):\n",
    "    state = np.array(report[\"states\"][i])\n",
    "    solution = report[\"solutions\"][i]\n",
    "    if not check_solution(game, state, solution):\n",
    "        print(\"Is not solution!\", i)\n",
    "        break"
   ]
  },
  {
   "cell_type": "code",
   "execution_count": null,
   "metadata": {},
   "outputs": [],
   "source": []
  }
 ],
 "metadata": {
  "kernelspec": {
   "display_name": "Python 3",
   "language": "python",
   "name": "python3"
  },
  "language_info": {
   "codemirror_mode": {
    "name": "ipython",
    "version": 3
   },
   "file_extension": ".py",
   "mimetype": "text/x-python",
   "name": "python",
   "nbconvert_exporter": "python",
   "pygments_lexer": "ipython3",
   "version": "3.11.7"
  }
 },
 "nbformat": 4,
 "nbformat_minor": 2
}
