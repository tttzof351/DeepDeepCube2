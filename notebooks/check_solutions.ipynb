{
 "cells": [
  {
   "cell_type": "code",
   "execution_count": 1,
   "metadata": {},
   "outputs": [],
   "source": [
    "import sys\n",
    "\n",
    "sys.path.append(\"../\")"
   ]
  },
  {
   "cell_type": "code",
   "execution_count": 2,
   "metadata": {},
   "outputs": [],
   "source": [
    "from utils import open_pickle\n",
    "import numpy as np"
   ]
  },
  {
   "cell_type": "code",
   "execution_count": 30,
   "metadata": {},
   "outputs": [
    {
     "name": "stdout",
     "output_type": "stream",
     "text": [
      "Processed: 1000\n",
      "\n",
      "Optimum:  20.64\n",
      "AlphaCube (paper):  21.26\n",
      "DeepCubeA:  21.35\n",
      "Catboost:  22.9\n",
      "\n",
      "Catboost average time to solve: 71.06 sec\n"
     ]
    }
   ],
   "source": [
    "optimum = open_pickle(\"../assets/data/deepcubea/data_0.pkl\")\n",
    "deepcube_res = open_pickle(\"../assets/data/deepcubea/results.pkl\")\n",
    "report = open_pickle(\"../assets/reports/result_cb_on_deepcube.pickle\")\n",
    "\n",
    "result_lengths = [len(s) for s in report[\"solutions\"]]\n",
    "opt_lengths = [len(s) for s in optimum[\"solutions\"]][:len(result_lengths)]\n",
    "dc_lengths = [len(s) for s in deepcube_res[\"solutions\"]][:len(result_lengths)]\n",
    "\n",
    "avg_time_sec = np.round(np.sum(report[\"time_sec\"]) / len(report[\"time_sec\"]), 2)\n",
    "\n",
    "print(\"Processed:\", len(result_lengths))\n",
    "print(\"\")\n",
    "print(\"Optimum: \", np.round(np.mean(opt_lengths), 2))\n",
    "print(\"AlphaCube (paper): \", 21.26)\n",
    "print(\"DeepCubeA: \", np.round(np.mean(dc_lengths), 2))\n",
    "print(\"Catboost: \", np.round(np.mean(result_lengths), 2))\n",
    "print(\"\")\n",
    "print(f\"Catboost average time to solve: {avg_time_sec} sec\")"
   ]
  },
  {
   "cell_type": "code",
   "execution_count": 31,
   "metadata": {},
   "outputs": [
    {
     "data": {
      "text/plain": [
       "1000"
      ]
     },
     "execution_count": 31,
     "metadata": {},
     "output_type": "execute_result"
    }
   ],
   "source": [
    "len(result_lengths)"
   ]
  },
  {
   "cell_type": "code",
   "execution_count": null,
   "metadata": {},
   "outputs": [],
   "source": []
  },
  {
   "cell_type": "code",
   "execution_count": null,
   "metadata": {},
   "outputs": [],
   "source": []
  }
 ],
 "metadata": {
  "kernelspec": {
   "display_name": "Python 3",
   "language": "python",
   "name": "python3"
  },
  "language_info": {
   "codemirror_mode": {
    "name": "ipython",
    "version": 3
   },
   "file_extension": ".py",
   "mimetype": "text/x-python",
   "name": "python",
   "nbconvert_exporter": "python",
   "pygments_lexer": "ipython3",
   "version": "3.11.7"
  }
 },
 "nbformat": 4,
 "nbformat_minor": 2
}
